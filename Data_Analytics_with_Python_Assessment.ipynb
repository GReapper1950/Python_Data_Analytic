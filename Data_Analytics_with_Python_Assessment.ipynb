{
 "cells": [
  {
   "cell_type": "markdown",
   "metadata": {
    "colab_type": "text",
    "id": "view-in-github"
   },
   "source": [
    "<a href=\"https://colab.research.google.com/github/shiftkey-labs/PythonDA-course/blob/main/Assessment/Data_Analytics_with_Python_Assessment.ipynb\" target=\"_parent\"><img src=\"https://colab.research.google.com/assets/colab-badge.svg\" alt=\"Open In Colab\"/></a>"
   ]
  },
  {
   "cell_type": "markdown",
   "metadata": {
    "id": "ZofcnJAIJHaX"
   },
   "source": [
    "# Introduction\n",
    "\n",
    "This assessment aims to evaluate your understanding and application of the concepts covered in the Data Analytics course. You will be tasked with analyzing a dataset related to remote work and mental health, utilizing various data manipulation, statistical analysis, and visualization techniques learned throughout the course. This exercise will help reinforce your skills in data handling, exploratory analysis, and drawing meaningful insights from data.\n",
    "\n",
    "### Submission Details:\n",
    "\n",
    "The deadline for submission is 16 November at 11:59 PM. Specific submission details will be shared with you shortly.\n",
    "\n",
    "### Passing Criteria:\n",
    "\n",
    "To successfully pass this assessment, you must achieve a score of 80% or higher.\n",
    "We encourage you to engage with the material and demonstrate your analytical skills. Good luck!\n",
    "\n",
    "\n",
    "---\n",
    "\n"
   ]
  },
  {
   "cell_type": "markdown",
   "metadata": {
    "id": "t6EemGQaDLyU"
   },
   "source": [
    "# Section 1 - Beginner (25%)\n"
   ]
  },
  {
   "cell_type": "markdown",
   "metadata": {
    "id": "IEQXM5QADPRl"
   },
   "source": [
    "## Shopping Cart System with Discounts\n",
    "\n",
    "Write a Python program to simulate a shopping cart system for an online store. The program will calculate the total cost of items, apply discounts, and check if the total exceeds a specified budget."
   ]
  },
  {
   "cell_type": "markdown",
   "metadata": {
    "id": "dKkPEPpCDyda"
   },
   "source": [
    "1.\tVariables and Lists:\n",
    "  - Define a `budget` variable with an initial value of 200.\n",
    "  \n",
    "  - Create two empty lists called `item_names_list` and `item_prices_list` to store the name and price of each item separately."
   ]
  },
  {
   "cell_type": "code",
   "execution_count": 6,
   "metadata": {
    "id": "4lXTHMaCC8VO"
   },
   "outputs": [],
   "source": [
    "# Write your code here\n",
    "budget=200\n",
    "item_names_list = []\n",
    "item_prices_list=[]"
   ]
  },
  {
   "cell_type": "markdown",
   "metadata": {
    "id": "wRAwexQhD0cq"
   },
   "source": [
    "2. Functions:\n",
    "  - Write a function `add_item_to_cart(item_name, item_price)` that takes the item’s name and price as arguments, appends the name to item_names and the price to item_prices, and returns both updated lists.\n",
    "  \n",
    "  - Write a function `calculate_total(item_prices)` that calculates and returns the total cost of all items in item_prices.\n",
    "\n",
    "    Conditions:\n",
    "    - If the total cost exceeds the budget after adding an item, print \"Budget exceeded!\" and stop adding more items.\n",
    "    - If the total cost is within budget and exceeds $100, apply a 10% discount on the total and print the discounted total."
   ]
  },
  {
   "cell_type": "code",
   "execution_count": 3,
   "metadata": {
    "id": "g_UiAVHSD3UK"
   },
   "outputs": [],
   "source": [
    "# Write your code here\n",
    "def add_item_to_cart(item_name, item_price):\n",
    "    sum=0\n",
    "    for item in item_prices_list:\n",
    "        sum+=item\n",
    "    if(sum+item_price<=200):\n",
    "        return item_names_list.append(item_name), item_prices_list.append(item_price)\n",
    "    else:\n",
    "        print(\"budget exceeded\")\n",
    "\n",
    "def calculate_total(item_prices):\n",
    "    sum=0\n",
    "    for item in item_prices:\n",
    "        sum+=item\n",
    "    return sum\n",
    "\n",
    "def calculate_final_total(item_prices):\n",
    "    sum=calculate_total(item_prices)\n",
    "    if sum>100:\n",
    "        sum=sum*(1-0.1)\n",
    "    return sum"
   ]
  },
  {
   "cell_type": "markdown",
   "metadata": {
    "id": "B22U5SdVEKeH"
   },
   "source": [
    "3.\tLoop and Input:\n",
    "  - Start the input only once the user says 'start'\n",
    "  - Use a loop to allow the user to add items to the cart by entering an item name and price. The loop should stop when the user types 'done'.\n",
    "  - For each item, add it to item_names and item_prices using add_item_to_cart, then update the total cost using calculate_total.\n",
    "\n",
    "Output:\n",
    "  - After the loop ends, display the final cart with each item and its price, the initial total, any applicable discount, and the final total.\n"
   ]
  },
  {
   "cell_type": "code",
   "execution_count": 15,
   "metadata": {
    "id": "CJtjsE8YD6Mv"
   },
   "outputs": [
    {
     "name": "stdout",
     "output_type": "stream",
     "text": [
      "100\n",
      "125\n",
      "item1, 100\n",
      "item2, 25\n",
      "Initial total: 125, Discount:12.5, Final total:112.5\n"
     ]
    }
   ],
   "source": [
    "# Write your code here\n",
    "item_names_list = []\n",
    "item_prices_list=[]\n",
    "user_commd=\"\"\n",
    "while(user_commd!=\"start\"):\n",
    "    user_commd=input(\"Say start when you are ready!\")\n",
    "while(user_commd!=\"done\"):\n",
    "    item_name=input(\"what is the name of your item?\")\n",
    "    if(item_name==\"done\"):\n",
    "        break\n",
    "    item_price=input(\"what is the price of this item?\")\n",
    "    if(item_price==\"done\"):\n",
    "        break\n",
    "    add_item_to_cart(item_name, int(item_price))\n",
    "    print(calculate_total(item_prices_list))\n",
    "cart_total=calculate_total(item_prices_list)\n",
    "final_total=calculate_final_total(item_prices_list)\n",
    "discount=cart_total-final_total\n",
    "index=0\n",
    "for item in item_names_list:\n",
    "    print(f'{item}, {item_prices_list[index]}')\n",
    "    index+=1\n",
    "print(f'Initial total: {cart_total}, Discount:{discount}, Final total:{final_total}')\n"
   ]
  },
  {
   "cell_type": "markdown",
   "metadata": {
    "id": "jXkjbG86QL5G"
   },
   "source": [
    "# Section 2 - Intermidiate (55%) - Remote Work and Mental Health Analysis\n",
    "\n",
    "Dataset source: Kaggle (https://www.kaggle.com/datasets/waqi786/remote-work-and-mental-health)\n",
    "\n",
    "\n"
   ]
  },
  {
   "cell_type": "markdown",
   "metadata": {
    "id": "3ZF33AOoRP9Z"
   },
   "source": [
    "## Objective:\n",
    "- In the following sections, you will explore the \"Remote Work and Mental Health\" dataset using Python and different data science libraries such as Pandas, NumPy and Matplotlib.\n",
    "- Follow the instructions below to complete each task. Please provide code for each question and any observations as comments when necessary."
   ]
  },
  {
   "cell_type": "code",
   "execution_count": 16,
   "metadata": {
    "id": "zX8_bEfKSGcB"
   },
   "outputs": [],
   "source": [
    "# Import necessary modules and libraries\n",
    "import pandas as pd\n",
    "from matplotlib import pyplot as plt"
   ]
  },
  {
   "cell_type": "markdown",
   "metadata": {
    "id": "M8GDnps-RR9q"
   },
   "source": [
    "## 1. Load Dataset (2 marks)\n",
    "- Instructions: Load the dataset using Pandas and display few rows.\n",
    "- Question: Describe the overall structure (rows, columns, data types) as a comment at the end of your code.\n"
   ]
  },
  {
   "cell_type": "code",
   "execution_count": 149,
   "metadata": {
    "id": "iN_Ne4xKSE_g"
   },
   "outputs": [],
   "source": [
    "# Write code here\n",
    "df=pd.read_csv(\"Impact_of_Remote_Work_on_Mental_Health.csv\")\n",
    "#The data has 10 columns recording 10 different information from 5000 people who were recorded for this dataset\n",
    "#Thus, the dataframe will have 10 columns and 5000 data rows\n",
    "#There are 3 types of data types, which are string, boolean, and integer"
   ]
  },
  {
   "cell_type": "markdown",
   "metadata": {
    "id": "knNIuhCoSFNx"
   },
   "source": [
    "## 2. Display 'n' Rows (3 marks)\n",
    "- Instructions: Display the first 13 rows of the dataset."
   ]
  },
  {
   "cell_type": "code",
   "execution_count": 21,
   "metadata": {
    "id": "aojeUCP3-DlN"
   },
   "outputs": [
    {
     "name": "stdout",
     "output_type": "stream",
     "text": [
      "First 13 rows of the dataset:\n",
      "\n"
     ]
    },
    {
     "data": {
      "text/html": [
       "<div>\n",
       "<style scoped>\n",
       "    .dataframe tbody tr th:only-of-type {\n",
       "        vertical-align: middle;\n",
       "    }\n",
       "\n",
       "    .dataframe tbody tr th {\n",
       "        vertical-align: top;\n",
       "    }\n",
       "\n",
       "    .dataframe thead th {\n",
       "        text-align: right;\n",
       "    }\n",
       "</style>\n",
       "<table border=\"1\" class=\"dataframe\">\n",
       "  <thead>\n",
       "    <tr style=\"text-align: right;\">\n",
       "      <th></th>\n",
       "      <th>Employee_ID</th>\n",
       "      <th>Age</th>\n",
       "      <th>Gender</th>\n",
       "      <th>Job_Role</th>\n",
       "      <th>Industry</th>\n",
       "      <th>Years_of_Experience</th>\n",
       "      <th>Work_Location</th>\n",
       "      <th>Hours_Worked_Per_Week</th>\n",
       "      <th>Number_of_Virtual_Meetings</th>\n",
       "      <th>Work_Life_Balance_Rating</th>\n",
       "      <th>Stress_Level</th>\n",
       "      <th>Mental_Health_Condition</th>\n",
       "      <th>Access_to_Mental_Health_Resources</th>\n",
       "      <th>Productivity_Change</th>\n",
       "      <th>Social_Isolation_Rating</th>\n",
       "      <th>Satisfaction_with_Remote_Work</th>\n",
       "      <th>Company_Support_for_Remote_Work</th>\n",
       "      <th>Physical_Activity</th>\n",
       "      <th>Sleep_Quality</th>\n",
       "      <th>Region</th>\n",
       "    </tr>\n",
       "  </thead>\n",
       "  <tbody>\n",
       "    <tr>\n",
       "      <th>0</th>\n",
       "      <td>EMP0001</td>\n",
       "      <td>32</td>\n",
       "      <td>Non-binary</td>\n",
       "      <td>HR</td>\n",
       "      <td>Healthcare</td>\n",
       "      <td>13</td>\n",
       "      <td>Hybrid</td>\n",
       "      <td>47</td>\n",
       "      <td>7</td>\n",
       "      <td>2</td>\n",
       "      <td>Medium</td>\n",
       "      <td>Depression</td>\n",
       "      <td>No</td>\n",
       "      <td>Decrease</td>\n",
       "      <td>1</td>\n",
       "      <td>Unsatisfied</td>\n",
       "      <td>1</td>\n",
       "      <td>Weekly</td>\n",
       "      <td>Good</td>\n",
       "      <td>Europe</td>\n",
       "    </tr>\n",
       "    <tr>\n",
       "      <th>1</th>\n",
       "      <td>EMP0002</td>\n",
       "      <td>40</td>\n",
       "      <td>Female</td>\n",
       "      <td>Data Scientist</td>\n",
       "      <td>IT</td>\n",
       "      <td>3</td>\n",
       "      <td>Remote</td>\n",
       "      <td>52</td>\n",
       "      <td>4</td>\n",
       "      <td>1</td>\n",
       "      <td>Medium</td>\n",
       "      <td>Anxiety</td>\n",
       "      <td>No</td>\n",
       "      <td>Increase</td>\n",
       "      <td>3</td>\n",
       "      <td>Satisfied</td>\n",
       "      <td>2</td>\n",
       "      <td>Weekly</td>\n",
       "      <td>Good</td>\n",
       "      <td>Asia</td>\n",
       "    </tr>\n",
       "    <tr>\n",
       "      <th>2</th>\n",
       "      <td>EMP0003</td>\n",
       "      <td>59</td>\n",
       "      <td>Non-binary</td>\n",
       "      <td>Software Engineer</td>\n",
       "      <td>Education</td>\n",
       "      <td>22</td>\n",
       "      <td>Hybrid</td>\n",
       "      <td>46</td>\n",
       "      <td>11</td>\n",
       "      <td>5</td>\n",
       "      <td>Medium</td>\n",
       "      <td>Anxiety</td>\n",
       "      <td>No</td>\n",
       "      <td>No Change</td>\n",
       "      <td>4</td>\n",
       "      <td>Unsatisfied</td>\n",
       "      <td>5</td>\n",
       "      <td>NaN</td>\n",
       "      <td>Poor</td>\n",
       "      <td>North America</td>\n",
       "    </tr>\n",
       "    <tr>\n",
       "      <th>3</th>\n",
       "      <td>EMP0004</td>\n",
       "      <td>27</td>\n",
       "      <td>Male</td>\n",
       "      <td>Software Engineer</td>\n",
       "      <td>Finance</td>\n",
       "      <td>20</td>\n",
       "      <td>Onsite</td>\n",
       "      <td>32</td>\n",
       "      <td>8</td>\n",
       "      <td>4</td>\n",
       "      <td>High</td>\n",
       "      <td>Depression</td>\n",
       "      <td>Yes</td>\n",
       "      <td>Increase</td>\n",
       "      <td>3</td>\n",
       "      <td>Unsatisfied</td>\n",
       "      <td>3</td>\n",
       "      <td>NaN</td>\n",
       "      <td>Poor</td>\n",
       "      <td>Europe</td>\n",
       "    </tr>\n",
       "    <tr>\n",
       "      <th>4</th>\n",
       "      <td>EMP0005</td>\n",
       "      <td>49</td>\n",
       "      <td>Male</td>\n",
       "      <td>Sales</td>\n",
       "      <td>Consulting</td>\n",
       "      <td>32</td>\n",
       "      <td>Onsite</td>\n",
       "      <td>35</td>\n",
       "      <td>12</td>\n",
       "      <td>2</td>\n",
       "      <td>High</td>\n",
       "      <td>NaN</td>\n",
       "      <td>Yes</td>\n",
       "      <td>Decrease</td>\n",
       "      <td>3</td>\n",
       "      <td>Unsatisfied</td>\n",
       "      <td>3</td>\n",
       "      <td>Weekly</td>\n",
       "      <td>Average</td>\n",
       "      <td>North America</td>\n",
       "    </tr>\n",
       "    <tr>\n",
       "      <th>5</th>\n",
       "      <td>EMP0006</td>\n",
       "      <td>59</td>\n",
       "      <td>Non-binary</td>\n",
       "      <td>Sales</td>\n",
       "      <td>IT</td>\n",
       "      <td>31</td>\n",
       "      <td>Hybrid</td>\n",
       "      <td>39</td>\n",
       "      <td>3</td>\n",
       "      <td>4</td>\n",
       "      <td>High</td>\n",
       "      <td>NaN</td>\n",
       "      <td>No</td>\n",
       "      <td>Increase</td>\n",
       "      <td>5</td>\n",
       "      <td>Unsatisfied</td>\n",
       "      <td>1</td>\n",
       "      <td>NaN</td>\n",
       "      <td>Average</td>\n",
       "      <td>South America</td>\n",
       "    </tr>\n",
       "    <tr>\n",
       "      <th>6</th>\n",
       "      <td>EMP0007</td>\n",
       "      <td>31</td>\n",
       "      <td>Prefer not to say</td>\n",
       "      <td>Sales</td>\n",
       "      <td>IT</td>\n",
       "      <td>24</td>\n",
       "      <td>Remote</td>\n",
       "      <td>51</td>\n",
       "      <td>7</td>\n",
       "      <td>3</td>\n",
       "      <td>Low</td>\n",
       "      <td>Anxiety</td>\n",
       "      <td>Yes</td>\n",
       "      <td>Decrease</td>\n",
       "      <td>5</td>\n",
       "      <td>Neutral</td>\n",
       "      <td>3</td>\n",
       "      <td>Daily</td>\n",
       "      <td>Poor</td>\n",
       "      <td>Asia</td>\n",
       "    </tr>\n",
       "    <tr>\n",
       "      <th>7</th>\n",
       "      <td>EMP0008</td>\n",
       "      <td>42</td>\n",
       "      <td>Non-binary</td>\n",
       "      <td>Data Scientist</td>\n",
       "      <td>Manufacturing</td>\n",
       "      <td>6</td>\n",
       "      <td>Onsite</td>\n",
       "      <td>54</td>\n",
       "      <td>7</td>\n",
       "      <td>3</td>\n",
       "      <td>Medium</td>\n",
       "      <td>Depression</td>\n",
       "      <td>No</td>\n",
       "      <td>Decrease</td>\n",
       "      <td>5</td>\n",
       "      <td>Satisfied</td>\n",
       "      <td>4</td>\n",
       "      <td>NaN</td>\n",
       "      <td>Average</td>\n",
       "      <td>North America</td>\n",
       "    </tr>\n",
       "    <tr>\n",
       "      <th>8</th>\n",
       "      <td>EMP0009</td>\n",
       "      <td>56</td>\n",
       "      <td>Prefer not to say</td>\n",
       "      <td>Data Scientist</td>\n",
       "      <td>Healthcare</td>\n",
       "      <td>9</td>\n",
       "      <td>Hybrid</td>\n",
       "      <td>24</td>\n",
       "      <td>4</td>\n",
       "      <td>2</td>\n",
       "      <td>High</td>\n",
       "      <td>NaN</td>\n",
       "      <td>Yes</td>\n",
       "      <td>Decrease</td>\n",
       "      <td>2</td>\n",
       "      <td>Unsatisfied</td>\n",
       "      <td>4</td>\n",
       "      <td>Daily</td>\n",
       "      <td>Poor</td>\n",
       "      <td>Europe</td>\n",
       "    </tr>\n",
       "    <tr>\n",
       "      <th>9</th>\n",
       "      <td>EMP0010</td>\n",
       "      <td>30</td>\n",
       "      <td>Female</td>\n",
       "      <td>HR</td>\n",
       "      <td>IT</td>\n",
       "      <td>28</td>\n",
       "      <td>Hybrid</td>\n",
       "      <td>57</td>\n",
       "      <td>6</td>\n",
       "      <td>1</td>\n",
       "      <td>Low</td>\n",
       "      <td>Depression</td>\n",
       "      <td>Yes</td>\n",
       "      <td>Decrease</td>\n",
       "      <td>2</td>\n",
       "      <td>Neutral</td>\n",
       "      <td>1</td>\n",
       "      <td>Weekly</td>\n",
       "      <td>Poor</td>\n",
       "      <td>North America</td>\n",
       "    </tr>\n",
       "    <tr>\n",
       "      <th>10</th>\n",
       "      <td>EMP0011</td>\n",
       "      <td>33</td>\n",
       "      <td>Non-binary</td>\n",
       "      <td>Software Engineer</td>\n",
       "      <td>Finance</td>\n",
       "      <td>17</td>\n",
       "      <td>Remote</td>\n",
       "      <td>48</td>\n",
       "      <td>3</td>\n",
       "      <td>3</td>\n",
       "      <td>High</td>\n",
       "      <td>NaN</td>\n",
       "      <td>Yes</td>\n",
       "      <td>Decrease</td>\n",
       "      <td>4</td>\n",
       "      <td>Satisfied</td>\n",
       "      <td>2</td>\n",
       "      <td>Weekly</td>\n",
       "      <td>Average</td>\n",
       "      <td>Oceania</td>\n",
       "    </tr>\n",
       "    <tr>\n",
       "      <th>11</th>\n",
       "      <td>EMP0012</td>\n",
       "      <td>47</td>\n",
       "      <td>Female</td>\n",
       "      <td>Marketing</td>\n",
       "      <td>Consulting</td>\n",
       "      <td>31</td>\n",
       "      <td>Hybrid</td>\n",
       "      <td>26</td>\n",
       "      <td>12</td>\n",
       "      <td>4</td>\n",
       "      <td>Medium</td>\n",
       "      <td>NaN</td>\n",
       "      <td>Yes</td>\n",
       "      <td>No Change</td>\n",
       "      <td>4</td>\n",
       "      <td>Neutral</td>\n",
       "      <td>3</td>\n",
       "      <td>Weekly</td>\n",
       "      <td>Poor</td>\n",
       "      <td>Africa</td>\n",
       "    </tr>\n",
       "    <tr>\n",
       "      <th>12</th>\n",
       "      <td>EMP0013</td>\n",
       "      <td>40</td>\n",
       "      <td>Female</td>\n",
       "      <td>Marketing</td>\n",
       "      <td>Consulting</td>\n",
       "      <td>1</td>\n",
       "      <td>Remote</td>\n",
       "      <td>21</td>\n",
       "      <td>7</td>\n",
       "      <td>2</td>\n",
       "      <td>High</td>\n",
       "      <td>Depression</td>\n",
       "      <td>Yes</td>\n",
       "      <td>Decrease</td>\n",
       "      <td>2</td>\n",
       "      <td>Neutral</td>\n",
       "      <td>1</td>\n",
       "      <td>Weekly</td>\n",
       "      <td>Good</td>\n",
       "      <td>Europe</td>\n",
       "    </tr>\n",
       "  </tbody>\n",
       "</table>\n",
       "</div>"
      ],
      "text/plain": [
       "   Employee_ID  Age             Gender           Job_Role       Industry  \\\n",
       "0      EMP0001   32         Non-binary                 HR     Healthcare   \n",
       "1      EMP0002   40             Female     Data Scientist             IT   \n",
       "2      EMP0003   59         Non-binary  Software Engineer      Education   \n",
       "3      EMP0004   27               Male  Software Engineer        Finance   \n",
       "4      EMP0005   49               Male              Sales     Consulting   \n",
       "5      EMP0006   59         Non-binary              Sales             IT   \n",
       "6      EMP0007   31  Prefer not to say              Sales             IT   \n",
       "7      EMP0008   42         Non-binary     Data Scientist  Manufacturing   \n",
       "8      EMP0009   56  Prefer not to say     Data Scientist     Healthcare   \n",
       "9      EMP0010   30             Female                 HR             IT   \n",
       "10     EMP0011   33         Non-binary  Software Engineer        Finance   \n",
       "11     EMP0012   47             Female          Marketing     Consulting   \n",
       "12     EMP0013   40             Female          Marketing     Consulting   \n",
       "\n",
       "    Years_of_Experience Work_Location  Hours_Worked_Per_Week  \\\n",
       "0                    13        Hybrid                     47   \n",
       "1                     3        Remote                     52   \n",
       "2                    22        Hybrid                     46   \n",
       "3                    20        Onsite                     32   \n",
       "4                    32        Onsite                     35   \n",
       "5                    31        Hybrid                     39   \n",
       "6                    24        Remote                     51   \n",
       "7                     6        Onsite                     54   \n",
       "8                     9        Hybrid                     24   \n",
       "9                    28        Hybrid                     57   \n",
       "10                   17        Remote                     48   \n",
       "11                   31        Hybrid                     26   \n",
       "12                    1        Remote                     21   \n",
       "\n",
       "    Number_of_Virtual_Meetings  Work_Life_Balance_Rating Stress_Level  \\\n",
       "0                            7                         2       Medium   \n",
       "1                            4                         1       Medium   \n",
       "2                           11                         5       Medium   \n",
       "3                            8                         4         High   \n",
       "4                           12                         2         High   \n",
       "5                            3                         4         High   \n",
       "6                            7                         3          Low   \n",
       "7                            7                         3       Medium   \n",
       "8                            4                         2         High   \n",
       "9                            6                         1          Low   \n",
       "10                           3                         3         High   \n",
       "11                          12                         4       Medium   \n",
       "12                           7                         2         High   \n",
       "\n",
       "   Mental_Health_Condition Access_to_Mental_Health_Resources  \\\n",
       "0               Depression                                No   \n",
       "1                  Anxiety                                No   \n",
       "2                  Anxiety                                No   \n",
       "3               Depression                               Yes   \n",
       "4                      NaN                               Yes   \n",
       "5                      NaN                                No   \n",
       "6                  Anxiety                               Yes   \n",
       "7               Depression                                No   \n",
       "8                      NaN                               Yes   \n",
       "9               Depression                               Yes   \n",
       "10                     NaN                               Yes   \n",
       "11                     NaN                               Yes   \n",
       "12              Depression                               Yes   \n",
       "\n",
       "   Productivity_Change  Social_Isolation_Rating Satisfaction_with_Remote_Work  \\\n",
       "0             Decrease                        1                   Unsatisfied   \n",
       "1             Increase                        3                     Satisfied   \n",
       "2            No Change                        4                   Unsatisfied   \n",
       "3             Increase                        3                   Unsatisfied   \n",
       "4             Decrease                        3                   Unsatisfied   \n",
       "5             Increase                        5                   Unsatisfied   \n",
       "6             Decrease                        5                       Neutral   \n",
       "7             Decrease                        5                     Satisfied   \n",
       "8             Decrease                        2                   Unsatisfied   \n",
       "9             Decrease                        2                       Neutral   \n",
       "10            Decrease                        4                     Satisfied   \n",
       "11           No Change                        4                       Neutral   \n",
       "12            Decrease                        2                       Neutral   \n",
       "\n",
       "    Company_Support_for_Remote_Work Physical_Activity Sleep_Quality  \\\n",
       "0                                 1            Weekly          Good   \n",
       "1                                 2            Weekly          Good   \n",
       "2                                 5               NaN          Poor   \n",
       "3                                 3               NaN          Poor   \n",
       "4                                 3            Weekly       Average   \n",
       "5                                 1               NaN       Average   \n",
       "6                                 3             Daily          Poor   \n",
       "7                                 4               NaN       Average   \n",
       "8                                 4             Daily          Poor   \n",
       "9                                 1            Weekly          Poor   \n",
       "10                                2            Weekly       Average   \n",
       "11                                3            Weekly          Poor   \n",
       "12                                1            Weekly          Good   \n",
       "\n",
       "           Region  \n",
       "0          Europe  \n",
       "1            Asia  \n",
       "2   North America  \n",
       "3          Europe  \n",
       "4   North America  \n",
       "5   South America  \n",
       "6            Asia  \n",
       "7   North America  \n",
       "8          Europe  \n",
       "9   North America  \n",
       "10        Oceania  \n",
       "11         Africa  \n",
       "12         Europe  "
      ]
     },
     "execution_count": 21,
     "metadata": {},
     "output_type": "execute_result"
    }
   ],
   "source": [
    "# Write code here\n",
    "print(\"First 13 rows of the dataset:\\n\")\n",
    "head_13_rows = df.head(13)\n",
    "head_13_rows"
   ]
  },
  {
   "cell_type": "markdown",
   "metadata": {
    "id": "iNJ7GvJt-EJk"
   },
   "source": [
    "- Instructions: Display the last 7 rows of the dataset"
   ]
  },
  {
   "cell_type": "code",
   "execution_count": 22,
   "metadata": {
    "id": "bvxs1GHK-Iv4"
   },
   "outputs": [
    {
     "name": "stdout",
     "output_type": "stream",
     "text": [
      "Last 7 rows of the dataset:\n",
      "\n"
     ]
    },
    {
     "data": {
      "text/html": [
       "<div>\n",
       "<style scoped>\n",
       "    .dataframe tbody tr th:only-of-type {\n",
       "        vertical-align: middle;\n",
       "    }\n",
       "\n",
       "    .dataframe tbody tr th {\n",
       "        vertical-align: top;\n",
       "    }\n",
       "\n",
       "    .dataframe thead th {\n",
       "        text-align: right;\n",
       "    }\n",
       "</style>\n",
       "<table border=\"1\" class=\"dataframe\">\n",
       "  <thead>\n",
       "    <tr style=\"text-align: right;\">\n",
       "      <th></th>\n",
       "      <th>Employee_ID</th>\n",
       "      <th>Age</th>\n",
       "      <th>Gender</th>\n",
       "      <th>Job_Role</th>\n",
       "      <th>Industry</th>\n",
       "      <th>Years_of_Experience</th>\n",
       "      <th>Work_Location</th>\n",
       "      <th>Hours_Worked_Per_Week</th>\n",
       "      <th>Number_of_Virtual_Meetings</th>\n",
       "      <th>Work_Life_Balance_Rating</th>\n",
       "      <th>Stress_Level</th>\n",
       "      <th>Mental_Health_Condition</th>\n",
       "      <th>Access_to_Mental_Health_Resources</th>\n",
       "      <th>Productivity_Change</th>\n",
       "      <th>Social_Isolation_Rating</th>\n",
       "      <th>Satisfaction_with_Remote_Work</th>\n",
       "      <th>Company_Support_for_Remote_Work</th>\n",
       "      <th>Physical_Activity</th>\n",
       "      <th>Sleep_Quality</th>\n",
       "      <th>Region</th>\n",
       "    </tr>\n",
       "  </thead>\n",
       "  <tbody>\n",
       "    <tr>\n",
       "      <th>4993</th>\n",
       "      <td>EMP4994</td>\n",
       "      <td>35</td>\n",
       "      <td>Non-binary</td>\n",
       "      <td>Marketing</td>\n",
       "      <td>Retail</td>\n",
       "      <td>12</td>\n",
       "      <td>Hybrid</td>\n",
       "      <td>32</td>\n",
       "      <td>13</td>\n",
       "      <td>5</td>\n",
       "      <td>Medium</td>\n",
       "      <td>NaN</td>\n",
       "      <td>Yes</td>\n",
       "      <td>Decrease</td>\n",
       "      <td>2</td>\n",
       "      <td>Satisfied</td>\n",
       "      <td>3</td>\n",
       "      <td>Daily</td>\n",
       "      <td>Good</td>\n",
       "      <td>Asia</td>\n",
       "    </tr>\n",
       "    <tr>\n",
       "      <th>4994</th>\n",
       "      <td>EMP4995</td>\n",
       "      <td>40</td>\n",
       "      <td>Prefer not to say</td>\n",
       "      <td>Marketing</td>\n",
       "      <td>IT</td>\n",
       "      <td>17</td>\n",
       "      <td>Hybrid</td>\n",
       "      <td>52</td>\n",
       "      <td>1</td>\n",
       "      <td>2</td>\n",
       "      <td>Medium</td>\n",
       "      <td>Burnout</td>\n",
       "      <td>Yes</td>\n",
       "      <td>Increase</td>\n",
       "      <td>3</td>\n",
       "      <td>Neutral</td>\n",
       "      <td>5</td>\n",
       "      <td>Daily</td>\n",
       "      <td>Good</td>\n",
       "      <td>Oceania</td>\n",
       "    </tr>\n",
       "    <tr>\n",
       "      <th>4995</th>\n",
       "      <td>EMP4996</td>\n",
       "      <td>32</td>\n",
       "      <td>Male</td>\n",
       "      <td>Sales</td>\n",
       "      <td>Consulting</td>\n",
       "      <td>4</td>\n",
       "      <td>Onsite</td>\n",
       "      <td>24</td>\n",
       "      <td>2</td>\n",
       "      <td>5</td>\n",
       "      <td>High</td>\n",
       "      <td>Burnout</td>\n",
       "      <td>Yes</td>\n",
       "      <td>Decrease</td>\n",
       "      <td>4</td>\n",
       "      <td>Neutral</td>\n",
       "      <td>1</td>\n",
       "      <td>Weekly</td>\n",
       "      <td>Average</td>\n",
       "      <td>Asia</td>\n",
       "    </tr>\n",
       "    <tr>\n",
       "      <th>4996</th>\n",
       "      <td>EMP4997</td>\n",
       "      <td>39</td>\n",
       "      <td>Female</td>\n",
       "      <td>Sales</td>\n",
       "      <td>Healthcare</td>\n",
       "      <td>27</td>\n",
       "      <td>Onsite</td>\n",
       "      <td>48</td>\n",
       "      <td>15</td>\n",
       "      <td>1</td>\n",
       "      <td>Low</td>\n",
       "      <td>Depression</td>\n",
       "      <td>Yes</td>\n",
       "      <td>Decrease</td>\n",
       "      <td>1</td>\n",
       "      <td>Satisfied</td>\n",
       "      <td>1</td>\n",
       "      <td>NaN</td>\n",
       "      <td>Average</td>\n",
       "      <td>Africa</td>\n",
       "    </tr>\n",
       "    <tr>\n",
       "      <th>4997</th>\n",
       "      <td>EMP4998</td>\n",
       "      <td>42</td>\n",
       "      <td>Female</td>\n",
       "      <td>Sales</td>\n",
       "      <td>Healthcare</td>\n",
       "      <td>21</td>\n",
       "      <td>Hybrid</td>\n",
       "      <td>34</td>\n",
       "      <td>1</td>\n",
       "      <td>4</td>\n",
       "      <td>High</td>\n",
       "      <td>Burnout</td>\n",
       "      <td>No</td>\n",
       "      <td>Increase</td>\n",
       "      <td>3</td>\n",
       "      <td>Satisfied</td>\n",
       "      <td>1</td>\n",
       "      <td>Daily</td>\n",
       "      <td>Poor</td>\n",
       "      <td>Oceania</td>\n",
       "    </tr>\n",
       "    <tr>\n",
       "      <th>4998</th>\n",
       "      <td>EMP4999</td>\n",
       "      <td>27</td>\n",
       "      <td>Female</td>\n",
       "      <td>Sales</td>\n",
       "      <td>Healthcare</td>\n",
       "      <td>26</td>\n",
       "      <td>Remote</td>\n",
       "      <td>58</td>\n",
       "      <td>0</td>\n",
       "      <td>5</td>\n",
       "      <td>Low</td>\n",
       "      <td>NaN</td>\n",
       "      <td>Yes</td>\n",
       "      <td>Increase</td>\n",
       "      <td>3</td>\n",
       "      <td>Unsatisfied</td>\n",
       "      <td>4</td>\n",
       "      <td>Daily</td>\n",
       "      <td>Average</td>\n",
       "      <td>Asia</td>\n",
       "    </tr>\n",
       "    <tr>\n",
       "      <th>4999</th>\n",
       "      <td>EMP5000</td>\n",
       "      <td>29</td>\n",
       "      <td>Male</td>\n",
       "      <td>HR</td>\n",
       "      <td>IT</td>\n",
       "      <td>30</td>\n",
       "      <td>Onsite</td>\n",
       "      <td>20</td>\n",
       "      <td>15</td>\n",
       "      <td>1</td>\n",
       "      <td>Low</td>\n",
       "      <td>Depression</td>\n",
       "      <td>Yes</td>\n",
       "      <td>No Change</td>\n",
       "      <td>3</td>\n",
       "      <td>Unsatisfied</td>\n",
       "      <td>5</td>\n",
       "      <td>NaN</td>\n",
       "      <td>Poor</td>\n",
       "      <td>Asia</td>\n",
       "    </tr>\n",
       "  </tbody>\n",
       "</table>\n",
       "</div>"
      ],
      "text/plain": [
       "     Employee_ID  Age             Gender   Job_Role    Industry  \\\n",
       "4993     EMP4994   35         Non-binary  Marketing      Retail   \n",
       "4994     EMP4995   40  Prefer not to say  Marketing          IT   \n",
       "4995     EMP4996   32               Male      Sales  Consulting   \n",
       "4996     EMP4997   39             Female      Sales  Healthcare   \n",
       "4997     EMP4998   42             Female      Sales  Healthcare   \n",
       "4998     EMP4999   27             Female      Sales  Healthcare   \n",
       "4999     EMP5000   29               Male         HR          IT   \n",
       "\n",
       "      Years_of_Experience Work_Location  Hours_Worked_Per_Week  \\\n",
       "4993                   12        Hybrid                     32   \n",
       "4994                   17        Hybrid                     52   \n",
       "4995                    4        Onsite                     24   \n",
       "4996                   27        Onsite                     48   \n",
       "4997                   21        Hybrid                     34   \n",
       "4998                   26        Remote                     58   \n",
       "4999                   30        Onsite                     20   \n",
       "\n",
       "      Number_of_Virtual_Meetings  Work_Life_Balance_Rating Stress_Level  \\\n",
       "4993                          13                         5       Medium   \n",
       "4994                           1                         2       Medium   \n",
       "4995                           2                         5         High   \n",
       "4996                          15                         1          Low   \n",
       "4997                           1                         4         High   \n",
       "4998                           0                         5          Low   \n",
       "4999                          15                         1          Low   \n",
       "\n",
       "     Mental_Health_Condition Access_to_Mental_Health_Resources  \\\n",
       "4993                     NaN                               Yes   \n",
       "4994                 Burnout                               Yes   \n",
       "4995                 Burnout                               Yes   \n",
       "4996              Depression                               Yes   \n",
       "4997                 Burnout                                No   \n",
       "4998                     NaN                               Yes   \n",
       "4999              Depression                               Yes   \n",
       "\n",
       "     Productivity_Change  Social_Isolation_Rating  \\\n",
       "4993            Decrease                        2   \n",
       "4994            Increase                        3   \n",
       "4995            Decrease                        4   \n",
       "4996            Decrease                        1   \n",
       "4997            Increase                        3   \n",
       "4998            Increase                        3   \n",
       "4999           No Change                        3   \n",
       "\n",
       "     Satisfaction_with_Remote_Work  Company_Support_for_Remote_Work  \\\n",
       "4993                     Satisfied                                3   \n",
       "4994                       Neutral                                5   \n",
       "4995                       Neutral                                1   \n",
       "4996                     Satisfied                                1   \n",
       "4997                     Satisfied                                1   \n",
       "4998                   Unsatisfied                                4   \n",
       "4999                   Unsatisfied                                5   \n",
       "\n",
       "     Physical_Activity Sleep_Quality   Region  \n",
       "4993             Daily          Good     Asia  \n",
       "4994             Daily          Good  Oceania  \n",
       "4995            Weekly       Average     Asia  \n",
       "4996               NaN       Average   Africa  \n",
       "4997             Daily          Poor  Oceania  \n",
       "4998             Daily       Average     Asia  \n",
       "4999               NaN          Poor     Asia  "
      ]
     },
     "execution_count": 22,
     "metadata": {},
     "output_type": "execute_result"
    }
   ],
   "source": [
    "# Write code here\n",
    "print(\"Last 7 rows of the dataset:\\n\")\n",
    "last_7_rows=df.tail(7)\n",
    "last_7_rows"
   ]
  },
  {
   "cell_type": "markdown",
   "metadata": {
    "id": "osg640SM-ySa"
   },
   "source": [
    "## 3. Find the Number of Null Values in the Dataset (2 mark)"
   ]
  },
  {
   "cell_type": "code",
   "execution_count": 25,
   "metadata": {
    "id": "VL7WVh2x_e2u"
   },
   "outputs": [
    {
     "data": {
      "text/plain": [
       "Employee_ID                             0\n",
       "Age                                     0\n",
       "Gender                                  0\n",
       "Job_Role                                0\n",
       "Industry                                0\n",
       "Years_of_Experience                     0\n",
       "Work_Location                           0\n",
       "Hours_Worked_Per_Week                   0\n",
       "Number_of_Virtual_Meetings              0\n",
       "Work_Life_Balance_Rating                0\n",
       "Stress_Level                            0\n",
       "Mental_Health_Condition              1196\n",
       "Access_to_Mental_Health_Resources       0\n",
       "Productivity_Change                     0\n",
       "Social_Isolation_Rating                 0\n",
       "Satisfaction_with_Remote_Work           0\n",
       "Company_Support_for_Remote_Work         0\n",
       "Physical_Activity                    1629\n",
       "Sleep_Quality                           0\n",
       "Region                                  0\n",
       "dtype: int64"
      ]
     },
     "execution_count": 25,
     "metadata": {},
     "output_type": "execute_result"
    }
   ],
   "source": [
    "# Write code here\n",
    "df.isna().sum()"
   ]
  },
  {
   "cell_type": "markdown",
   "metadata": {
    "id": "FpJ9_gGH_g9Z"
   },
   "source": [
    "## 4. Statistical Summary for Numeric Columns (10 marks)\n",
    "Instructions: Use individual commands to find the statistical summary."
   ]
  },
  {
   "cell_type": "markdown",
   "metadata": {
    "id": "8R-SXWwY_msH"
   },
   "source": [
    "- Count"
   ]
  },
  {
   "cell_type": "code",
   "execution_count": 31,
   "metadata": {
    "id": "rdhV-VNf_gcm"
   },
   "outputs": [
    {
     "data": {
      "text/plain": [
       "Age                                5000\n",
       "Years_of_Experience                5000\n",
       "Hours_Worked_Per_Week              5000\n",
       "Number_of_Virtual_Meetings         5000\n",
       "Work_Life_Balance_Rating           5000\n",
       "Social_Isolation_Rating            5000\n",
       "Company_Support_for_Remote_Work    5000\n",
       "dtype: int64"
      ]
     },
     "execution_count": 31,
     "metadata": {},
     "output_type": "execute_result"
    }
   ],
   "source": [
    "# Write code here\n",
    "df[['Age','Years_of_Experience','Hours_Worked_Per_Week','Number_of_Virtual_Meetings','Work_Life_Balance_Rating','Social_Isolation_Rating','Company_Support_for_Remote_Work']].count()\n"
   ]
  },
  {
   "cell_type": "markdown",
   "metadata": {
    "id": "3sHkuqIM_wLh"
   },
   "source": [
    "- Mean"
   ]
  },
  {
   "cell_type": "code",
   "execution_count": 32,
   "metadata": {
    "id": "MyCg6EO4_v1V"
   },
   "outputs": [
    {
     "data": {
      "text/plain": [
       "Age                                40.9950\n",
       "Years_of_Experience                17.8102\n",
       "Hours_Worked_Per_Week              39.6146\n",
       "Number_of_Virtual_Meetings          7.5590\n",
       "Work_Life_Balance_Rating            2.9842\n",
       "Social_Isolation_Rating             2.9938\n",
       "Company_Support_for_Remote_Work     3.0078\n",
       "dtype: float64"
      ]
     },
     "execution_count": 32,
     "metadata": {},
     "output_type": "execute_result"
    }
   ],
   "source": [
    "# Write code here\n",
    "df[['Age','Years_of_Experience','Hours_Worked_Per_Week','Number_of_Virtual_Meetings','Work_Life_Balance_Rating','Social_Isolation_Rating','Company_Support_for_Remote_Work']].mean()"
   ]
  },
  {
   "cell_type": "markdown",
   "metadata": {
    "id": "S3KSqJm2_vob"
   },
   "source": [
    "- Standard Deviation"
   ]
  },
  {
   "cell_type": "code",
   "execution_count": 33,
   "metadata": {
    "id": "sKUiXGdy_y_7"
   },
   "outputs": [
    {
     "data": {
      "text/plain": [
       "Age                                11.296021\n",
       "Years_of_Experience                10.020412\n",
       "Hours_Worked_Per_Week              11.860194\n",
       "Number_of_Virtual_Meetings          4.636121\n",
       "Work_Life_Balance_Rating            1.410513\n",
       "Social_Isolation_Rating             1.394615\n",
       "Company_Support_for_Remote_Work     1.399046\n",
       "dtype: float64"
      ]
     },
     "execution_count": 33,
     "metadata": {},
     "output_type": "execute_result"
    }
   ],
   "source": [
    "# Write code here\n",
    "df[['Age','Years_of_Experience','Hours_Worked_Per_Week','Number_of_Virtual_Meetings','Work_Life_Balance_Rating','Social_Isolation_Rating','Company_Support_for_Remote_Work']].std()"
   ]
  },
  {
   "cell_type": "markdown",
   "metadata": {
    "id": "NvmOKMtoABPG"
   },
   "source": [
    "- Quartiles"
   ]
  },
  {
   "cell_type": "code",
   "execution_count": 34,
   "metadata": {
    "id": "TVThkvwx_0zt"
   },
   "outputs": [
    {
     "data": {
      "text/html": [
       "<div>\n",
       "<style scoped>\n",
       "    .dataframe tbody tr th:only-of-type {\n",
       "        vertical-align: middle;\n",
       "    }\n",
       "\n",
       "    .dataframe tbody tr th {\n",
       "        vertical-align: top;\n",
       "    }\n",
       "\n",
       "    .dataframe thead th {\n",
       "        text-align: right;\n",
       "    }\n",
       "</style>\n",
       "<table border=\"1\" class=\"dataframe\">\n",
       "  <thead>\n",
       "    <tr style=\"text-align: right;\">\n",
       "      <th></th>\n",
       "      <th>Age</th>\n",
       "      <th>Years_of_Experience</th>\n",
       "      <th>Hours_Worked_Per_Week</th>\n",
       "      <th>Number_of_Virtual_Meetings</th>\n",
       "      <th>Work_Life_Balance_Rating</th>\n",
       "      <th>Social_Isolation_Rating</th>\n",
       "      <th>Company_Support_for_Remote_Work</th>\n",
       "    </tr>\n",
       "  </thead>\n",
       "  <tbody>\n",
       "    <tr>\n",
       "      <th>0.25</th>\n",
       "      <td>31.0</td>\n",
       "      <td>9.0</td>\n",
       "      <td>29.0</td>\n",
       "      <td>4.0</td>\n",
       "      <td>2.0</td>\n",
       "      <td>2.0</td>\n",
       "      <td>2.0</td>\n",
       "    </tr>\n",
       "    <tr>\n",
       "      <th>0.50</th>\n",
       "      <td>41.0</td>\n",
       "      <td>18.0</td>\n",
       "      <td>40.0</td>\n",
       "      <td>8.0</td>\n",
       "      <td>3.0</td>\n",
       "      <td>3.0</td>\n",
       "      <td>3.0</td>\n",
       "    </tr>\n",
       "    <tr>\n",
       "      <th>0.75</th>\n",
       "      <td>51.0</td>\n",
       "      <td>26.0</td>\n",
       "      <td>50.0</td>\n",
       "      <td>12.0</td>\n",
       "      <td>4.0</td>\n",
       "      <td>4.0</td>\n",
       "      <td>4.0</td>\n",
       "    </tr>\n",
       "  </tbody>\n",
       "</table>\n",
       "</div>"
      ],
      "text/plain": [
       "       Age  Years_of_Experience  Hours_Worked_Per_Week  \\\n",
       "0.25  31.0                  9.0                   29.0   \n",
       "0.50  41.0                 18.0                   40.0   \n",
       "0.75  51.0                 26.0                   50.0   \n",
       "\n",
       "      Number_of_Virtual_Meetings  Work_Life_Balance_Rating  \\\n",
       "0.25                         4.0                       2.0   \n",
       "0.50                         8.0                       3.0   \n",
       "0.75                        12.0                       4.0   \n",
       "\n",
       "      Social_Isolation_Rating  Company_Support_for_Remote_Work  \n",
       "0.25                      2.0                              2.0  \n",
       "0.50                      3.0                              3.0  \n",
       "0.75                      4.0                              4.0  "
      ]
     },
     "execution_count": 34,
     "metadata": {},
     "output_type": "execute_result"
    }
   ],
   "source": [
    "# Write code here\n",
    "df[['Age','Years_of_Experience','Hours_Worked_Per_Week','Number_of_Virtual_Meetings','Work_Life_Balance_Rating','Social_Isolation_Rating','Company_Support_for_Remote_Work']].quantile([0.25, 0.5, 0.75])"
   ]
  },
  {
   "cell_type": "markdown",
   "metadata": {
    "id": "kydBDNX0AWbd"
   },
   "source": [
    "## 5. Calculate Extrema (2 marks)"
   ]
  },
  {
   "cell_type": "code",
   "execution_count": 38,
   "metadata": {
    "id": "u6cVQN3l_0ut"
   },
   "outputs": [
    {
     "name": "stdout",
     "output_type": "stream",
     "text": [
      "Minima of each numerical value column:\n",
      "\n",
      "Age                                22\n",
      "Years_of_Experience                 1\n",
      "Hours_Worked_Per_Week              20\n",
      "Number_of_Virtual_Meetings          0\n",
      "Work_Life_Balance_Rating            1\n",
      "Social_Isolation_Rating             1\n",
      "Company_Support_for_Remote_Work     1\n",
      "dtype: int64\n",
      "\n",
      "Maxima of each numerical value column:\n",
      "\n",
      "Age                                60\n",
      "Years_of_Experience                35\n",
      "Hours_Worked_Per_Week              60\n",
      "Number_of_Virtual_Meetings         15\n",
      "Work_Life_Balance_Rating            5\n",
      "Social_Isolation_Rating             5\n",
      "Company_Support_for_Remote_Work     5\n",
      "dtype: int64\n"
     ]
    }
   ],
   "source": [
    "# Write code here\n",
    "print('Minima of each numerical value column:\\n')\n",
    "print(df[['Age','Years_of_Experience','Hours_Worked_Per_Week','Number_of_Virtual_Meetings','Work_Life_Balance_Rating','Social_Isolation_Rating','Company_Support_for_Remote_Work']].min())\n",
    "print('\\nMaxima of each numerical value column:\\n')\n",
    "print(df[['Age','Years_of_Experience','Hours_Worked_Per_Week','Number_of_Virtual_Meetings','Work_Life_Balance_Rating','Social_Isolation_Rating','Company_Support_for_Remote_Work']].max())"
   ]
  },
  {
   "cell_type": "markdown",
   "metadata": {
    "id": "z9mN8HDMCreb"
   },
   "source": [
    "## 6. Find Unique Values in a Categorical Column (3 marks)\n",
    "\n",
    "- Instructions: Identify the unique values in the `job_role` column (2 marks)\n",
    "- Question: How many unique roles are represented in the dataset? (1 mark)"
   ]
  },
  {
   "cell_type": "code",
   "execution_count": null,
   "metadata": {
    "id": "WO3P27X-_0pl"
   },
   "outputs": [
    {
     "name": "stdout",
     "output_type": "stream",
     "text": [
      "Here is the array containing the unique job_role\n",
      "['HR' 'Data Scientist' 'Software Engineer' 'Sales' 'Marketing' 'Designer'\n",
      " 'Project Manager']\n",
      "Here is the number of unique roles: 7\n"
     ]
    }
   ],
   "source": [
    "# Write code here\n",
    "print('Here is the array containing the unique job_role')\n",
    "unique_job=df['Job_Role'].unique()\n",
    "print(unique_job)\n",
    "print(f'Here is the number of unique roles: {len(unique_job)}')\n",
    "#There are 7 unique values/roles in the dataset given"
   ]
  },
  {
   "cell_type": "markdown",
   "metadata": {
    "id": "GnePX9mfC-6I"
   },
   "source": [
    "## 7. Group Data and Calculate Mean (4 marks)\n",
    "- Instructions: Group the dataset by `job_role` and calculate the mean of the `Work_Life_Balance_Rating` for each role.\n",
    "- Question: Which job role has the highest average Work life balance?"
   ]
  },
  {
   "cell_type": "code",
   "execution_count": 54,
   "metadata": {
    "id": "FDp0ZL9R_0j1"
   },
   "outputs": [
    {
     "name": "stdout",
     "output_type": "stream",
     "text": [
      "Job_Role\n",
      "Data Scientist       3.007184\n",
      "Designer             2.966805\n",
      "HR                   2.930168\n",
      "Marketing            2.945827\n",
      "Project Manager      2.960705\n",
      "Sales                3.043656\n",
      "Software Engineer    3.033755\n",
      "Name: Work_Life_Balance_Rating, dtype: float64\n",
      "3.043656207366985\n"
     ]
    }
   ],
   "source": [
    "# Write code here\n",
    "print(df.groupby(\"Job_Role\")['Work_Life_Balance_Rating'].mean())\n",
    "print(df.groupby(\"Job_Role\")['Work_Life_Balance_Rating'].mean().max())\n",
    "#Sales has the highest mean for work life balance rating\n"
   ]
  },
  {
   "cell_type": "markdown",
   "metadata": {
    "id": "uWZZN2JGDPoQ"
   },
   "source": [
    "## 8. Filter Data Based on Condition (4 marks)\n",
    "- Instructions: Filter the dataset to show only rows where `work_hours_per_week` is greater than 40.\n",
    "- Question: How many employees are working overtime?"
   ]
  },
  {
   "cell_type": "code",
   "execution_count": null,
   "metadata": {},
   "outputs": [
    {
     "data": {
      "text/html": [
       "<div>\n",
       "<style scoped>\n",
       "    .dataframe tbody tr th:only-of-type {\n",
       "        vertical-align: middle;\n",
       "    }\n",
       "\n",
       "    .dataframe tbody tr th {\n",
       "        vertical-align: top;\n",
       "    }\n",
       "\n",
       "    .dataframe thead th {\n",
       "        text-align: right;\n",
       "    }\n",
       "</style>\n",
       "<table border=\"1\" class=\"dataframe\">\n",
       "  <thead>\n",
       "    <tr style=\"text-align: right;\">\n",
       "      <th></th>\n",
       "      <th>Employee_ID</th>\n",
       "      <th>Age</th>\n",
       "      <th>Gender</th>\n",
       "      <th>Job_Role</th>\n",
       "      <th>Industry</th>\n",
       "      <th>Years_of_Experience</th>\n",
       "      <th>Work_Location</th>\n",
       "      <th>Hours_Worked_Per_Week</th>\n",
       "      <th>Number_of_Virtual_Meetings</th>\n",
       "      <th>Work_Life_Balance_Rating</th>\n",
       "      <th>Stress_Level</th>\n",
       "      <th>Mental_Health_Condition</th>\n",
       "      <th>Access_to_Mental_Health_Resources</th>\n",
       "      <th>Productivity_Change</th>\n",
       "      <th>Social_Isolation_Rating</th>\n",
       "      <th>Satisfaction_with_Remote_Work</th>\n",
       "      <th>Company_Support_for_Remote_Work</th>\n",
       "      <th>Physical_Activity</th>\n",
       "      <th>Sleep_Quality</th>\n",
       "      <th>Region</th>\n",
       "    </tr>\n",
       "  </thead>\n",
       "  <tbody>\n",
       "    <tr>\n",
       "      <th>0</th>\n",
       "      <td>EMP0001</td>\n",
       "      <td>32</td>\n",
       "      <td>Non-binary</td>\n",
       "      <td>HR</td>\n",
       "      <td>Healthcare</td>\n",
       "      <td>13</td>\n",
       "      <td>Hybrid</td>\n",
       "      <td>47</td>\n",
       "      <td>7</td>\n",
       "      <td>2</td>\n",
       "      <td>Medium</td>\n",
       "      <td>Depression</td>\n",
       "      <td>No</td>\n",
       "      <td>Decrease</td>\n",
       "      <td>1</td>\n",
       "      <td>Unsatisfied</td>\n",
       "      <td>1</td>\n",
       "      <td>Weekly</td>\n",
       "      <td>Good</td>\n",
       "      <td>Europe</td>\n",
       "    </tr>\n",
       "    <tr>\n",
       "      <th>1</th>\n",
       "      <td>EMP0002</td>\n",
       "      <td>40</td>\n",
       "      <td>Female</td>\n",
       "      <td>Data Scientist</td>\n",
       "      <td>IT</td>\n",
       "      <td>3</td>\n",
       "      <td>Remote</td>\n",
       "      <td>52</td>\n",
       "      <td>4</td>\n",
       "      <td>1</td>\n",
       "      <td>Medium</td>\n",
       "      <td>Anxiety</td>\n",
       "      <td>No</td>\n",
       "      <td>Increase</td>\n",
       "      <td>3</td>\n",
       "      <td>Satisfied</td>\n",
       "      <td>2</td>\n",
       "      <td>Weekly</td>\n",
       "      <td>Good</td>\n",
       "      <td>Asia</td>\n",
       "    </tr>\n",
       "    <tr>\n",
       "      <th>2</th>\n",
       "      <td>EMP0003</td>\n",
       "      <td>59</td>\n",
       "      <td>Non-binary</td>\n",
       "      <td>Software Engineer</td>\n",
       "      <td>Education</td>\n",
       "      <td>22</td>\n",
       "      <td>Hybrid</td>\n",
       "      <td>46</td>\n",
       "      <td>11</td>\n",
       "      <td>5</td>\n",
       "      <td>Medium</td>\n",
       "      <td>Anxiety</td>\n",
       "      <td>No</td>\n",
       "      <td>No Change</td>\n",
       "      <td>4</td>\n",
       "      <td>Unsatisfied</td>\n",
       "      <td>5</td>\n",
       "      <td>NaN</td>\n",
       "      <td>Poor</td>\n",
       "      <td>North America</td>\n",
       "    </tr>\n",
       "    <tr>\n",
       "      <th>6</th>\n",
       "      <td>EMP0007</td>\n",
       "      <td>31</td>\n",
       "      <td>Prefer not to say</td>\n",
       "      <td>Sales</td>\n",
       "      <td>IT</td>\n",
       "      <td>24</td>\n",
       "      <td>Remote</td>\n",
       "      <td>51</td>\n",
       "      <td>7</td>\n",
       "      <td>3</td>\n",
       "      <td>Low</td>\n",
       "      <td>Anxiety</td>\n",
       "      <td>Yes</td>\n",
       "      <td>Decrease</td>\n",
       "      <td>5</td>\n",
       "      <td>Neutral</td>\n",
       "      <td>3</td>\n",
       "      <td>Daily</td>\n",
       "      <td>Poor</td>\n",
       "      <td>Asia</td>\n",
       "    </tr>\n",
       "    <tr>\n",
       "      <th>7</th>\n",
       "      <td>EMP0008</td>\n",
       "      <td>42</td>\n",
       "      <td>Non-binary</td>\n",
       "      <td>Data Scientist</td>\n",
       "      <td>Manufacturing</td>\n",
       "      <td>6</td>\n",
       "      <td>Onsite</td>\n",
       "      <td>54</td>\n",
       "      <td>7</td>\n",
       "      <td>3</td>\n",
       "      <td>Medium</td>\n",
       "      <td>Depression</td>\n",
       "      <td>No</td>\n",
       "      <td>Decrease</td>\n",
       "      <td>5</td>\n",
       "      <td>Satisfied</td>\n",
       "      <td>4</td>\n",
       "      <td>NaN</td>\n",
       "      <td>Average</td>\n",
       "      <td>North America</td>\n",
       "    </tr>\n",
       "    <tr>\n",
       "      <th>...</th>\n",
       "      <td>...</td>\n",
       "      <td>...</td>\n",
       "      <td>...</td>\n",
       "      <td>...</td>\n",
       "      <td>...</td>\n",
       "      <td>...</td>\n",
       "      <td>...</td>\n",
       "      <td>...</td>\n",
       "      <td>...</td>\n",
       "      <td>...</td>\n",
       "      <td>...</td>\n",
       "      <td>...</td>\n",
       "      <td>...</td>\n",
       "      <td>...</td>\n",
       "      <td>...</td>\n",
       "      <td>...</td>\n",
       "      <td>...</td>\n",
       "      <td>...</td>\n",
       "      <td>...</td>\n",
       "      <td>...</td>\n",
       "    </tr>\n",
       "    <tr>\n",
       "      <th>4991</th>\n",
       "      <td>EMP4992</td>\n",
       "      <td>60</td>\n",
       "      <td>Female</td>\n",
       "      <td>Data Scientist</td>\n",
       "      <td>IT</td>\n",
       "      <td>9</td>\n",
       "      <td>Hybrid</td>\n",
       "      <td>57</td>\n",
       "      <td>4</td>\n",
       "      <td>2</td>\n",
       "      <td>Low</td>\n",
       "      <td>Burnout</td>\n",
       "      <td>Yes</td>\n",
       "      <td>Increase</td>\n",
       "      <td>4</td>\n",
       "      <td>Satisfied</td>\n",
       "      <td>5</td>\n",
       "      <td>Weekly</td>\n",
       "      <td>Average</td>\n",
       "      <td>Oceania</td>\n",
       "    </tr>\n",
       "    <tr>\n",
       "      <th>4992</th>\n",
       "      <td>EMP4993</td>\n",
       "      <td>55</td>\n",
       "      <td>Prefer not to say</td>\n",
       "      <td>Project Manager</td>\n",
       "      <td>Consulting</td>\n",
       "      <td>21</td>\n",
       "      <td>Hybrid</td>\n",
       "      <td>45</td>\n",
       "      <td>7</td>\n",
       "      <td>2</td>\n",
       "      <td>High</td>\n",
       "      <td>Anxiety</td>\n",
       "      <td>No</td>\n",
       "      <td>No Change</td>\n",
       "      <td>2</td>\n",
       "      <td>Satisfied</td>\n",
       "      <td>3</td>\n",
       "      <td>Daily</td>\n",
       "      <td>Poor</td>\n",
       "      <td>Africa</td>\n",
       "    </tr>\n",
       "    <tr>\n",
       "      <th>4994</th>\n",
       "      <td>EMP4995</td>\n",
       "      <td>40</td>\n",
       "      <td>Prefer not to say</td>\n",
       "      <td>Marketing</td>\n",
       "      <td>IT</td>\n",
       "      <td>17</td>\n",
       "      <td>Hybrid</td>\n",
       "      <td>52</td>\n",
       "      <td>1</td>\n",
       "      <td>2</td>\n",
       "      <td>Medium</td>\n",
       "      <td>Burnout</td>\n",
       "      <td>Yes</td>\n",
       "      <td>Increase</td>\n",
       "      <td>3</td>\n",
       "      <td>Neutral</td>\n",
       "      <td>5</td>\n",
       "      <td>Daily</td>\n",
       "      <td>Good</td>\n",
       "      <td>Oceania</td>\n",
       "    </tr>\n",
       "    <tr>\n",
       "      <th>4996</th>\n",
       "      <td>EMP4997</td>\n",
       "      <td>39</td>\n",
       "      <td>Female</td>\n",
       "      <td>Sales</td>\n",
       "      <td>Healthcare</td>\n",
       "      <td>27</td>\n",
       "      <td>Onsite</td>\n",
       "      <td>48</td>\n",
       "      <td>15</td>\n",
       "      <td>1</td>\n",
       "      <td>Low</td>\n",
       "      <td>Depression</td>\n",
       "      <td>Yes</td>\n",
       "      <td>Decrease</td>\n",
       "      <td>1</td>\n",
       "      <td>Satisfied</td>\n",
       "      <td>1</td>\n",
       "      <td>NaN</td>\n",
       "      <td>Average</td>\n",
       "      <td>Africa</td>\n",
       "    </tr>\n",
       "    <tr>\n",
       "      <th>4998</th>\n",
       "      <td>EMP4999</td>\n",
       "      <td>27</td>\n",
       "      <td>Female</td>\n",
       "      <td>Sales</td>\n",
       "      <td>Healthcare</td>\n",
       "      <td>26</td>\n",
       "      <td>Remote</td>\n",
       "      <td>58</td>\n",
       "      <td>0</td>\n",
       "      <td>5</td>\n",
       "      <td>Low</td>\n",
       "      <td>NaN</td>\n",
       "      <td>Yes</td>\n",
       "      <td>Increase</td>\n",
       "      <td>3</td>\n",
       "      <td>Unsatisfied</td>\n",
       "      <td>4</td>\n",
       "      <td>Daily</td>\n",
       "      <td>Average</td>\n",
       "      <td>Asia</td>\n",
       "    </tr>\n",
       "  </tbody>\n",
       "</table>\n",
       "<p>2384 rows × 20 columns</p>\n",
       "</div>"
      ],
      "text/plain": [
       "     Employee_ID  Age             Gender           Job_Role       Industry  \\\n",
       "0        EMP0001   32         Non-binary                 HR     Healthcare   \n",
       "1        EMP0002   40             Female     Data Scientist             IT   \n",
       "2        EMP0003   59         Non-binary  Software Engineer      Education   \n",
       "6        EMP0007   31  Prefer not to say              Sales             IT   \n",
       "7        EMP0008   42         Non-binary     Data Scientist  Manufacturing   \n",
       "...          ...  ...                ...                ...            ...   \n",
       "4991     EMP4992   60             Female     Data Scientist             IT   \n",
       "4992     EMP4993   55  Prefer not to say    Project Manager     Consulting   \n",
       "4994     EMP4995   40  Prefer not to say          Marketing             IT   \n",
       "4996     EMP4997   39             Female              Sales     Healthcare   \n",
       "4998     EMP4999   27             Female              Sales     Healthcare   \n",
       "\n",
       "      Years_of_Experience Work_Location  Hours_Worked_Per_Week  \\\n",
       "0                      13        Hybrid                     47   \n",
       "1                       3        Remote                     52   \n",
       "2                      22        Hybrid                     46   \n",
       "6                      24        Remote                     51   \n",
       "7                       6        Onsite                     54   \n",
       "...                   ...           ...                    ...   \n",
       "4991                    9        Hybrid                     57   \n",
       "4992                   21        Hybrid                     45   \n",
       "4994                   17        Hybrid                     52   \n",
       "4996                   27        Onsite                     48   \n",
       "4998                   26        Remote                     58   \n",
       "\n",
       "      Number_of_Virtual_Meetings  Work_Life_Balance_Rating Stress_Level  \\\n",
       "0                              7                         2       Medium   \n",
       "1                              4                         1       Medium   \n",
       "2                             11                         5       Medium   \n",
       "6                              7                         3          Low   \n",
       "7                              7                         3       Medium   \n",
       "...                          ...                       ...          ...   \n",
       "4991                           4                         2          Low   \n",
       "4992                           7                         2         High   \n",
       "4994                           1                         2       Medium   \n",
       "4996                          15                         1          Low   \n",
       "4998                           0                         5          Low   \n",
       "\n",
       "     Mental_Health_Condition Access_to_Mental_Health_Resources  \\\n",
       "0                 Depression                                No   \n",
       "1                    Anxiety                                No   \n",
       "2                    Anxiety                                No   \n",
       "6                    Anxiety                               Yes   \n",
       "7                 Depression                                No   \n",
       "...                      ...                               ...   \n",
       "4991                 Burnout                               Yes   \n",
       "4992                 Anxiety                                No   \n",
       "4994                 Burnout                               Yes   \n",
       "4996              Depression                               Yes   \n",
       "4998                     NaN                               Yes   \n",
       "\n",
       "     Productivity_Change  Social_Isolation_Rating  \\\n",
       "0               Decrease                        1   \n",
       "1               Increase                        3   \n",
       "2              No Change                        4   \n",
       "6               Decrease                        5   \n",
       "7               Decrease                        5   \n",
       "...                  ...                      ...   \n",
       "4991            Increase                        4   \n",
       "4992           No Change                        2   \n",
       "4994            Increase                        3   \n",
       "4996            Decrease                        1   \n",
       "4998            Increase                        3   \n",
       "\n",
       "     Satisfaction_with_Remote_Work  Company_Support_for_Remote_Work  \\\n",
       "0                      Unsatisfied                                1   \n",
       "1                        Satisfied                                2   \n",
       "2                      Unsatisfied                                5   \n",
       "6                          Neutral                                3   \n",
       "7                        Satisfied                                4   \n",
       "...                            ...                              ...   \n",
       "4991                     Satisfied                                5   \n",
       "4992                     Satisfied                                3   \n",
       "4994                       Neutral                                5   \n",
       "4996                     Satisfied                                1   \n",
       "4998                   Unsatisfied                                4   \n",
       "\n",
       "     Physical_Activity Sleep_Quality         Region  \n",
       "0               Weekly          Good         Europe  \n",
       "1               Weekly          Good           Asia  \n",
       "2                  NaN          Poor  North America  \n",
       "6                Daily          Poor           Asia  \n",
       "7                  NaN       Average  North America  \n",
       "...                ...           ...            ...  \n",
       "4991            Weekly       Average        Oceania  \n",
       "4992             Daily          Poor         Africa  \n",
       "4994             Daily          Good        Oceania  \n",
       "4996               NaN       Average         Africa  \n",
       "4998             Daily       Average           Asia  \n",
       "\n",
       "[2384 rows x 20 columns]"
      ]
     },
     "execution_count": 75,
     "metadata": {},
     "output_type": "execute_result"
    }
   ],
   "source": [
    "df[df['Hours_Worked_Per_Week'] > 40]\n"
   ]
  },
  {
   "cell_type": "code",
   "execution_count": 76,
   "metadata": {
    "id": "hq77PsstDPWJ"
   },
   "outputs": [
    {
     "name": "stdout",
     "output_type": "stream",
     "text": [
      "Employee_ID                          2384\n",
      "Age                                  2384\n",
      "Gender                               2384\n",
      "Job_Role                             2384\n",
      "Industry                             2384\n",
      "Years_of_Experience                  2384\n",
      "Work_Location                        2384\n",
      "Hours_Worked_Per_Week                2384\n",
      "Number_of_Virtual_Meetings           2384\n",
      "Work_Life_Balance_Rating             2384\n",
      "Stress_Level                         2384\n",
      "Mental_Health_Condition              1816\n",
      "Access_to_Mental_Health_Resources    2384\n",
      "Productivity_Change                  2384\n",
      "Social_Isolation_Rating              2384\n",
      "Satisfaction_with_Remote_Work        2384\n",
      "Company_Support_for_Remote_Work      2384\n",
      "Physical_Activity                    1608\n",
      "Sleep_Quality                        2384\n",
      "Region                               2384\n",
      "dtype: int64\n"
     ]
    }
   ],
   "source": [
    "# Write code here\n",
    "print((df[df['Hours_Worked_Per_Week'] > 40]).count())\n",
    "#2384 employees are working overtime"
   ]
  },
  {
   "cell_type": "markdown",
   "metadata": {
    "id": "u6rhIsN6DzXO"
   },
   "source": [
    "## 9 . Histogram of Work Hours per Week (5 marks)\n",
    "- Instructions: Create a histogram of `Hours_Worked_Per_Week` (4 marks).\n",
    "- Question: Describe the distribution of work hours. Are most employees working around a certain number of hours per week? (1 mark)"
   ]
  },
  {
   "cell_type": "code",
   "execution_count": null,
   "metadata": {
    "id": "oxPN35Ui_0em"
   },
   "outputs": [
    {
     "data": {
      "text/plain": [
       "(array([528., 493., 492., 506., 477., 488., 484., 476., 472., 584.]),\n",
       " array([20., 24., 28., 32., 36., 40., 44., 48., 52., 56., 60.]),\n",
       " <BarContainer object of 10 artists>)"
      ]
     },
     "execution_count": 79,
     "metadata": {},
     "output_type": "execute_result"
    },
    {
     "data": {
      "image/png": "[encoded data removed]",
      "text/plain": [
       "<Figure size 640x480 with 1 Axes>"
      ]
     },
     "metadata": {},
     "output_type": "display_data"
    }
   ],
   "source": [
    "# Write code here\n",
    "plt.hist(df['Hours_Worked_Per_Week'], bins=10, color=\"green\", edgecolor=\"black\")\n",
    "#The uniform distribution shown through the histogram indicates that the spread is equal, and there are similar number of employee\n",
    "#working for each range of working hours per week. Moreover, the last column of working hours per week [56,60] is the highest at 584"
   ]
  },
  {
   "cell_type": "markdown",
   "metadata": {
    "id": "atghBU1UEFja"
   },
   "source": [
    "## 10. Scatter Plot of Work Hours vs. Years_of_Experience (4 marks)\n",
    "- Instructions: Create a scatter plot with `Hours_Worked_Per_Week` on the x-axis and `Years_of_Experience` on the y-axis."
   ]
  },
  {
   "cell_type": "code",
   "execution_count": null,
   "metadata": {
    "id": "0vYnYIhP_0ZV"
   },
   "outputs": [
    {
     "data": {
      "image/png": "[encoded data removed]",
      "text/plain": [
       "<Figure size 640x480 with 1 Axes>"
      ]
     },
     "metadata": {},
     "output_type": "display_data"
    }
   ],
   "source": [
    "# Write code here\n",
    "plt.scatter(df[\"Hours_Worked_Per_Week\"], df[\"Years_of_Experience\"], color=\"green\")\n",
    "plt.title(\"Scatter Plot of Work Hours vs. Years of Work Experience\")\n",
    "plt.xlabel(\"Work Hours per Week (hr)\")\n",
    "plt.ylabel(\"Years of Work Experience (yr)\")\n",
    "plt.show()\n",
    "#The lack of pattern here indicates that there is 0 correlation between the amount of hours per week the employees\n",
    "#have to work versus their years of work experience\n"
   ]
  },
  {
   "cell_type": "markdown",
   "metadata": {
    "id": "SRu7LPAYEOjw"
   },
   "source": [
    "## 11. Bar Chart of Average Work Life Balance by Job Role (5 marks)\n",
    "- Instructions: Create a bar chart showing the average `Work_Life_Balance_Rating` for each `Job_Role` (4 marks).\n",
    "- Question: Which job roles have the highest and lowest average mental Work Life Balance? (1 mark)"
   ]
  },
  {
   "cell_type": "code",
   "execution_count": 106,
   "metadata": {
    "id": "hshPHrEJ_0TL"
   },
   "outputs": [
    {
     "data": {
      "image/png": "[encoded data removed]",
      "text/plain": [
       "<Figure size 640x480 with 1 Axes>"
      ]
     },
     "metadata": {},
     "output_type": "display_data"
    },
    {
     "name": "stdout",
     "output_type": "stream",
     "text": [
      "The highest average mental work life balance\n",
      "Sales, 3.043656207366985\n",
      "The lowest average mental work life balance\n",
      "HR, 2.930167597765363\n"
     ]
    }
   ],
   "source": [
    "# Write code here\n",
    "#Filter the Job_Role column and seperate it into different sections then find the mean of work life balance rating for each section\n",
    "avg_ratings = df.groupby('Job_Role')['Work_Life_Balance_Rating'].mean()\n",
    "\n",
    "# Plot the bar chart\n",
    "avg_ratings.plot(kind='bar', color='skyblue', edgecolor='black')\n",
    "\n",
    "# Label the chart\n",
    "plt.title('Average Work-Life Balance Rating by Job Role')\n",
    "plt.xlabel('Job Role')\n",
    "plt.ylabel('Average Rating')\n",
    "plt.show()\n",
    "\n",
    "print('The highest average mental work life balance')\n",
    "highest_balance_job=avg_ratings.idxmax()\n",
    "highest_balance_rating=avg_ratings.max()\n",
    "print(f'{highest_balance_job}, {str(highest_balance_rating)}')\n",
    "print('The lowest average mental work life balance')\n",
    "lowest_balance_job=avg_ratings.idxmin()\n",
    "lowest_balance_rating=avg_ratings.min()\n",
    "print(f'{lowest_balance_job}, {str(lowest_balance_rating)}')\n",
    "#Sales people have the highest average mental work life balance\n",
    "#While HR people have the lowest average mental work life balance"
   ]
  },
  {
   "cell_type": "markdown",
   "metadata": {
    "id": "ZT4ReqO1EWyJ"
   },
   "source": [
    "## 12. Pie Chart of Workload Level Distribution (5 marks)\n",
    "- Instructions: Use a pie chart to show the proportion of `Access_to_Mental_Health_Resources` (Yes and no) in the dataset (4 marks).\n",
    "- Question: What percentage of employees have access to mental health resources? (1 mark)"
   ]
  },
  {
   "cell_type": "code",
   "execution_count": 118,
   "metadata": {
    "id": "loB1n-fe_0Lj"
   },
   "outputs": [
    {
     "data": {
      "text/plain": [
       "Text(0, 0.5, '')"
      ]
     },
     "execution_count": 118,
     "metadata": {},
     "output_type": "execute_result"
    },
    {
     "data": {
      "image/png": "[encoded data removed]",
      "text/plain": [
       "<Figure size 640x480 with 1 Axes>"
      ]
     },
     "metadata": {},
     "output_type": "display_data"
    }
   ],
   "source": [
    "# Write code here\n",
    "access_counts = df['Access_to_Mental_Health_Resources'].value_counts()\n",
    "access_counts.plot(kind='pie', autopct='%1.1f%%', colors=['red', 'green'], startangle=90)\n",
    "plt.title('Proportion of Access to Mental Health Resources')\n",
    "plt.ylabel('')\n",
    "#48.9% of the employees have access to mental health resources?"
   ]
  },
  {
   "cell_type": "markdown",
   "metadata": {
    "id": "huTl0I35Eeta"
   },
   "source": [
    "## 13. Scatter Plot of Age vs. Social Isolation Rating (6 marks)\n",
    "- Instructions: Create a scatter plot with `age` on the x-axis and `Social_Isolation_Rating` on the y-axis (4 marks).\n",
    "- Question: Do you observe any trends or relationships between age and social isolation? Is there a noticeable impact of age on isoloation? (2 marks)"
   ]
  },
  {
   "cell_type": "code",
   "execution_count": null,
   "metadata": {
    "id": "_XG_OCnC_0Do"
   },
   "outputs": [
    {
     "data": {
      "image/png": "[encoded data removed]",
      "text/plain": [
       "<Figure size 640x480 with 1 Axes>"
      ]
     },
     "metadata": {},
     "output_type": "display_data"
    }
   ],
   "source": [
    "# Write code here\n",
    "plt.scatter(df['Age'], df['Social_Isolation_Rating'], color='green', edgecolor='green')\n",
    "plt.title('Age vs. Social Isolation Rating')\n",
    "plt.xlabel('Age')\n",
    "plt.ylabel('Social Isolation Rating')\n",
    "plt.show()\n",
    "\n",
    "# There is no correlation or trend between the age and social isolation for the employees. Thus, there is no noticeable impact of age on isolation"
   ]
  },
  {
   "cell_type": "markdown",
   "metadata": {
    "id": "gegyzqphE2_G"
   },
   "source": [
    "# Section 3 - Long Answer/Advanced (20%)\n",
    "\n"
   ]
  },
  {
   "cell_type": "markdown",
   "metadata": {
    "id": "pK8L8R23FALn"
   },
   "source": [
    "## Job Role and Workload Level Impact on Mental Health\n",
    "\n",
    "Instructions: Investigate the influence of job roles and workload level on the mental health.\n",
    "- Create a new column `workload_level` that labels each entry as \"High\" if the `Hours_Worked_Per_Week` is above its mean, otherwise \"Low.\" (5 marks)\n",
    "- Group the dataset by `Industry` and calculate the average `Hours_Worked_Per_Week` for each combination. (5 marks)\n",
    "- Use a bar chart to display the average `Stress_Level` for each job role, with separate bars for high and low stress levels. (5 marks)\n",
    "- Analyze the results: Which job roles and workload levels appear to have the greatest impact on mental health? (5 marks)\n"
   ]
  },
  {
   "cell_type": "code",
   "execution_count": null,
   "metadata": {
    "id": "UeHUHXrK_z5d"
   },
   "outputs": [
    {
     "name": "stdout",
     "output_type": "stream",
     "text": [
      "Industry\n",
      "Consulting       39.205882\n",
      "Education        39.428986\n",
      "Finance          39.192771\n",
      "Healthcare       40.067308\n",
      "IT               40.017426\n",
      "Manufacturing    40.241581\n",
      "Retail           39.150138\n",
      "Name: Hours_Worked_Per_Week, dtype: float64\n"
     ]
    },
    {
     "data": {
      "image/png": "[encoded data removed]",
      "text/plain": [
       "<Figure size 640x480 with 1 Axes>"
      ]
     },
     "metadata": {},
     "output_type": "display_data"
    }
   ],
   "source": [
    "# Write code here\n",
    "# Calculate the mean of `Hours_Worked_Per_Week`\n",
    "mean_hours = df['Hours_Worked_Per_Week'].mean()\n",
    "\n",
    "# Create the workload_level column\n",
    "# Using the lambda function, we can apply the attributes as described in the parameter to each row\n",
    "df['workload_level'] = df['Hours_Worked_Per_Week'].apply(lambda x: 'High' if x > mean_hours else 'Low')\n",
    "# Group the dataset by the Industry name and calculate the hours worked per week for each industry\n",
    "industry_avg_hours = df.groupby('Industry')['Hours_Worked_Per_Week'].mean()\n",
    "print(industry_avg_hours)\n",
    "\n",
    "avg_stress = df.groupby('Job_Role')['Stress_Level'].mean()\n",
    "ax = avg_stress.plot(kind='bar', color='skyblue')\n",
    "plt.title('Average Stress Level by Job Role')\n",
    "plt.xlabel('Job Role')\n",
    "plt.ylabel('Average Stress Level')\n",
    "plt.xticks(rotation=45, ha='right')\n",
    "plt.tight_layout()\n",
    "\n",
    "# Adds text above the bars\n",
    "for i, v in enumerate(avg_stress):\n",
    "    ax.text(i, v + 0.05, round(v, 2), ha='center', va='bottom', color='black')  \n",
    "\n",
    "\n",
    "plt.show()"
   ]
  },
  {
   "cell_type": "code",
   "execution_count": null,
   "metadata": {},
   "outputs": [
    {
     "name": "stdout",
     "output_type": "stream",
     "text": [
      "                   Average Hours Per Week  Average Stress Level\n",
      "Job_Role                                                       \n",
      "Data Scientist                  38.954023              2.017241\n",
      "Designer                        38.881051              1.990318\n",
      "HR                              39.660615              1.980447\n",
      "Marketing                       39.734993              2.005857\n",
      "Project Manager                 39.922764              2.033875\n",
      "Sales                           39.860846              2.016371\n",
      "Software Engineer               40.271449              2.012658\n",
      "39.612248585595985\n",
      "2.00810965505299\n"
     ]
    }
   ],
   "source": [
    "#The following code will print out a table that shows the average working hours per week and average stress level for each job role\n",
    "\n",
    "avg_stress = df.groupby('Job_Role')['Stress_Level'].mean()\n",
    "\n",
    "avg_hours = df.groupby('Job_Role')['Hours_Worked_Per_Week'].mean()\n",
    "\n",
    "combined_data = pd.DataFrame({\n",
    "    'Average Hours Per Week': avg_hours,\n",
    "    'Average Stress Level': avg_stress\n",
    "})\n",
    "\n",
    "print(combined_data)\n",
    "\n",
    "mean_hours_for_all=avg_hours.mean()\n",
    "mean_stress_for_all=avg_stress.mean()\n",
    "print(mean_hours_for_all)\n",
    "print(mean_stress_for_all)\n",
    "#Thus from this, we can see that Project Manager, Sales, and Software Engineer have average working hours per week that is higher than every job roles' average.\n",
    "#Their average stress levels are also higher than the average for all. Thus, we can conclude that Project Manager, Sales, and Software Engineer job roles have the\n",
    "#greatest impact on mental health. "
   ]
  }
 ],
 "metadata": {
  "colab": {
   "authorship_tag": "ABX9TyPxgQWbcz0VylzXsR1503Zj",
   "collapsed_sections": [
    "jXkjbG86QL5G",
    "3ZF33AOoRP9Z",
    "M8GDnps-RR9q",
    "knNIuhCoSFNx",
    "osg640SM-ySa",
    "FpJ9_gGH_g9Z",
    "kydBDNX0AWbd",
    "z9mN8HDMCreb",
    "GnePX9mfC-6I",
    "uWZZN2JGDPoQ",
    "u6rhIsN6DzXO",
    "atghBU1UEFja",
    "SRu7LPAYEOjw",
    "ZT4ReqO1EWyJ"
   ],
   "include_colab_link": true,
   "provenance": []
  },
  "kernelspec": {
   "display_name": "Python 3",
   "name": "python3"
  },
  "language_info": {
   "codemirror_mode": {
    "name": "ipython",
    "version": 3
   },
   "file_extension": ".py",
   "mimetype": "text/x-python",
   "name": "python",
   "nbconvert_exporter": "python",
   "pygments_lexer": "ipython3",
   "version": "3.10.11"
  }
 },
 "nbformat": 4,
 "nbformat_minor": 0
}
